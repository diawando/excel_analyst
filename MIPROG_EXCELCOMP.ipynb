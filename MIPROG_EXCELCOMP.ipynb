{
 "cells": [
  {
   "cell_type": "code",
   "execution_count": null,
   "id": "e41c200d-4d09-4365-9708-b798b79b896f",
   "metadata": {},
   "outputs": [],
   "source": [
    "import pandas as pd\n",
    "ensemble_donnes = pd.read_excel('nom_du_classeur', sheet_name=[\"liste_des_noms_feuilles_ou_nom_de_la_feuille\"])\n",
    "index_comparateur = []\n",
    "index_compare = []\n",
    "valeur_unique = []\n",
    "for valeur in ensemble_donnes[\"nom_feuille_comparateur\"][\"nom_index_comparaison\"]:\n",
    "      index_comparateur.append(valeur)\n",
    "for valeur in ensemble_donnes[\"nom_feuille_comparé\"][\"nom_index_comparaison\"] :\n",
    "      index_compare.append(valeur)\n",
    "for data in index_comparateur :\n",
    "    if data not in index_compare:\n",
    "        valeur_unique.append(data)\n",
    "resultat_filtrage = ensemble_donnes[\"nom_feuille_comparateur\"][ensemble_donnes[\"nom_feuille_comparateur\"][\"nom_index_comparaison\"].isin(valeur_unique)]\n",
    "try:\n",
    "    with pd.ExcelWriter('nom_du_classeur', mode='a') as writer:  \n",
    "        resultat_filtrage.to_excel(writer, sheet_name='feuilles_resultat')\n",
    "    print(\"operation terminée\")\n",
    "except Exception as e:\n",
    "    print(e)\n",
    "fichier = pd.ExcelFile('nom_du_classeur')\n",
    "fichier.parse(sheet_name=\"feuilles_resultat\")"
   ]
  }
 ],
 "metadata": {
  "kernelspec": {
   "display_name": "Python 3 (ipykernel)",
   "language": "python",
   "name": "python3"
  },
  "language_info": {
   "codemirror_mode": {
    "name": "ipython",
    "version": 3
   },
   "file_extension": ".py",
   "mimetype": "text/x-python",
   "name": "python",
   "nbconvert_exporter": "python",
   "pygments_lexer": "ipython3",
   "version": "3.11.7"
  }
 },
 "nbformat": 4,
 "nbformat_minor": 5
}
